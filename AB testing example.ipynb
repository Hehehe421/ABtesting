{
 "cells": [
  {
   "cell_type": "code",
   "execution_count": 1,
   "metadata": {},
   "outputs": [],
   "source": [
    "#import all the packages\n",
    "import numpy as np\n",
    "import pandas as pd\n",
    "import scipy.stats as stats\n",
    "import statsmodels.stats.api as sms\n",
    "import matplotlib as mpl\n",
    "import matplotlib.pyplot as plt\n",
    "import seaborn as sns\n",
    "from math import ceil\n",
    "%matplotlib inline\n"
   ]
  },
  {
   "cell_type": "code",
   "execution_count": 49,
   "metadata": {},
   "outputs": [],
   "source": [
    "# Create the control dataset\n",
    "mu = 60\n",
    "sigma = 20\n",
    "d = {\n",
    "    'Purchase':np.random.normal(mu,sigma,1000),\n",
    "    'Click': np.random.randint(2, size = 1000)\n",
    "}\n",
    "df_control = pd.DataFrame(d)\n",
    "df_control['group'] = 'Control'\n",
    "\n",
    "#df_control.head()"
   ]
  },
  {
   "cell_type": "code",
   "execution_count": 50,
   "metadata": {},
   "outputs": [],
   "source": [
    "# Create the treatment dataset\n",
    "mu = 65\n",
    "sigma = 20\n",
    "d = {\n",
    "    'Purchase':np.random.normal(mu,sigma,1000),\n",
    "    'Click': np.random.randint(2, size = 1000)\n",
    "}\n",
    "df_treatment = pd.DataFrame(d)\n",
    "df_treatment['group'] = 'Treatment'\n",
    "#df_treatment.head()"
   ]
  },
  {
   "cell_type": "code",
   "execution_count": 34,
   "metadata": {},
   "outputs": [
    {
     "data": {
      "image/png": "[encoded data removed]",
      "text/plain": [
       "<Figure size 432x288 with 1 Axes>"
      ]
     },
     "metadata": {
      "needs_background": "light"
     },
     "output_type": "display_data"
    }
   ],
   "source": [
    "# Visualize the control mean\n",
    "num_bins = 100\n",
    "   \n",
    "n, bins, patches = plt.hist(df_control.Purchase, num_bins, \n",
    "                            density = 1, \n",
    "                            color ='green',\n",
    "                            alpha = 0.7)\n",
    "   \n",
    "y = ((1 / (np.sqrt(2 * np.pi) * sigma)) *\n",
    "     np.exp(-0.5 * (1 / sigma * (bins - mu))**2))\n",
    "  \n",
    "plt.plot(bins, y, '--', color ='black')\n",
    "  \n",
    "plt.xlabel('X-Axis')\n",
    "plt.ylabel('Y-Axis')\n",
    "  \n",
    "plt.title('matplotlib.pyplot.hist() function Example\\n\\n',\n",
    "          fontweight =\"bold\")\n",
    "  \n",
    "plt.show()"
   ]
  },
  {
   "cell_type": "code",
   "execution_count": 51,
   "metadata": {},
   "outputs": [],
   "source": [
    "# Concate the data\n",
    "ab_test = pd.concat([df_control, df_treatment], axis = 0)\n",
    "ab_test.reset_index(drop = True, inplace = True)"
   ]
  },
  {
   "cell_type": "code",
   "execution_count": 46,
   "metadata": {},
   "outputs": [
    {
     "name": "stdout",
     "output_type": "stream",
     "text": [
      "<class 'pandas.core.frame.DataFrame'>\n",
      "RangeIndex: 2000 entries, 0 to 1999\n",
      "Data columns (total 3 columns):\n",
      " #   Column    Non-Null Count  Dtype  \n",
      "---  ------    --------------  -----  \n",
      " 0   Purchase  2000 non-null   float64\n",
      " 1   Click     2000 non-null   int64  \n",
      " 2   group     2000 non-null   object \n",
      "dtypes: float64(1), int64(1), object(1)\n",
      "memory usage: 47.0+ KB\n",
      "************************************************************\n"
     ]
    },
    {
     "data": {
      "text/html": [
       "<div>\n",
       "<style scoped>\n",
       "    .dataframe tbody tr th:only-of-type {\n",
       "        vertical-align: middle;\n",
       "    }\n",
       "\n",
       "    .dataframe tbody tr th {\n",
       "        vertical-align: top;\n",
       "    }\n",
       "\n",
       "    .dataframe thead tr th {\n",
       "        text-align: left;\n",
       "    }\n",
       "\n",
       "    .dataframe thead tr:last-of-type th {\n",
       "        text-align: right;\n",
       "    }\n",
       "</style>\n",
       "<table border=\"1\" class=\"dataframe\">\n",
       "  <thead>\n",
       "    <tr>\n",
       "      <th></th>\n",
       "      <th colspan=\"8\" halign=\"left\">Purchase</th>\n",
       "      <th colspan=\"8\" halign=\"left\">Click</th>\n",
       "    </tr>\n",
       "    <tr>\n",
       "      <th></th>\n",
       "      <th>count</th>\n",
       "      <th>mean</th>\n",
       "      <th>std</th>\n",
       "      <th>min</th>\n",
       "      <th>25%</th>\n",
       "      <th>50%</th>\n",
       "      <th>75%</th>\n",
       "      <th>max</th>\n",
       "      <th>count</th>\n",
       "      <th>mean</th>\n",
       "      <th>std</th>\n",
       "      <th>min</th>\n",
       "      <th>25%</th>\n",
       "      <th>50%</th>\n",
       "      <th>75%</th>\n",
       "      <th>max</th>\n",
       "    </tr>\n",
       "    <tr>\n",
       "      <th>group</th>\n",
       "      <th></th>\n",
       "      <th></th>\n",
       "      <th></th>\n",
       "      <th></th>\n",
       "      <th></th>\n",
       "      <th></th>\n",
       "      <th></th>\n",
       "      <th></th>\n",
       "      <th></th>\n",
       "      <th></th>\n",
       "      <th></th>\n",
       "      <th></th>\n",
       "      <th></th>\n",
       "      <th></th>\n",
       "      <th></th>\n",
       "      <th></th>\n",
       "    </tr>\n",
       "  </thead>\n",
       "  <tbody>\n",
       "    <tr>\n",
       "      <th>Control</th>\n",
       "      <td>1000.0</td>\n",
       "      <td>59.825317</td>\n",
       "      <td>20.557260</td>\n",
       "      <td>-4.579047</td>\n",
       "      <td>45.521921</td>\n",
       "      <td>59.356952</td>\n",
       "      <td>73.532151</td>\n",
       "      <td>135.724005</td>\n",
       "      <td>1000.0</td>\n",
       "      <td>0.534</td>\n",
       "      <td>0.499092</td>\n",
       "      <td>0.0</td>\n",
       "      <td>0.0</td>\n",
       "      <td>1.0</td>\n",
       "      <td>1.0</td>\n",
       "      <td>1.0</td>\n",
       "    </tr>\n",
       "    <tr>\n",
       "      <th>Treatment</th>\n",
       "      <td>1000.0</td>\n",
       "      <td>64.682594</td>\n",
       "      <td>20.277621</td>\n",
       "      <td>-2.087522</td>\n",
       "      <td>51.302382</td>\n",
       "      <td>64.464958</td>\n",
       "      <td>77.840175</td>\n",
       "      <td>135.483097</td>\n",
       "      <td>1000.0</td>\n",
       "      <td>0.488</td>\n",
       "      <td>0.500106</td>\n",
       "      <td>0.0</td>\n",
       "      <td>0.0</td>\n",
       "      <td>0.0</td>\n",
       "      <td>1.0</td>\n",
       "      <td>1.0</td>\n",
       "    </tr>\n",
       "  </tbody>\n",
       "</table>\n",
       "</div>"
      ],
      "text/plain": [
       "          Purchase                                                        \\\n",
       "             count       mean        std       min        25%        50%   \n",
       "group                                                                      \n",
       "Control     1000.0  59.825317  20.557260 -4.579047  45.521921  59.356952   \n",
       "Treatment   1000.0  64.682594  20.277621 -2.087522  51.302382  64.464958   \n",
       "\n",
       "                                   Click                                       \\\n",
       "                 75%         max   count   mean       std  min  25%  50%  75%   \n",
       "group                                                                           \n",
       "Control    73.532151  135.724005  1000.0  0.534  0.499092  0.0  0.0  1.0  1.0   \n",
       "Treatment  77.840175  135.483097  1000.0  0.488  0.500106  0.0  0.0  0.0  1.0   \n",
       "\n",
       "                \n",
       "           max  \n",
       "group           \n",
       "Control    1.0  \n",
       "Treatment  1.0  "
      ]
     },
     "execution_count": 46,
     "metadata": {},
     "output_type": "execute_result"
    }
   ],
   "source": [
    "# Get the info and description\n",
    "ab_test.info()\n",
    "print(\"*\"*60)\n",
    "ab_test.groupby('group').describe()"
   ]
  },
  {
   "cell_type": "code",
   "execution_count": 48,
   "metadata": {},
   "outputs": [
    {
     "data": {
      "image/png": "[encoded data removed]",
      "text/plain": [
       "<Figure size 576x432 with 1 Axes>"
      ]
     },
     "metadata": {
      "needs_background": "light"
     },
     "output_type": "display_data"
    }
   ],
   "source": [
    "# Plot the click among groups\n",
    "plt.figure(figsize=(8,6))\n",
    "\n",
    "sns.barplot(x=ab_test['group'], y=ab_test['Click'], ci=False)\n",
    "\n",
    "plt.ylim(0, 0.6)\n",
    "plt.title('Click rate by group', pad=20)\n",
    "plt.xlabel('Group', labelpad=15)\n",
    "plt.ylabel('Clicked (proportion)', labelpad=15);"
   ]
  },
  {
   "cell_type": "code",
   "execution_count": 80,
   "metadata": {},
   "outputs": [
    {
     "data": {
      "image/png": "[encoded data removed]",
      "text/plain": [
       "<Figure size 576x432 with 1 Axes>"
      ]
     },
     "metadata": {
      "needs_background": "light"
     },
     "output_type": "display_data"
    }
   ],
   "source": [
    "# Plot the average purchase among groups\n",
    "plt.figure(figsize=(8,6))\n",
    "\n",
    "sns.boxplot(x=ab_test['group'], y=ab_test['Purchase'], data = ab_test)\n",
    "\n",
    "plt.ylim(0, 150)\n",
    "plt.title('Purchase by group', pad=20)\n",
    "plt.xlabel('Group', labelpad=15)\n",
    "plt.ylabel('Purchase (amount)', labelpad=15);"
   ]
  },
  {
   "cell_type": "code",
   "execution_count": 66,
   "metadata": {},
   "outputs": [
    {
     "name": "stdout",
     "output_type": "stream",
     "text": [
      "z statistic: 0.45\n",
      "p-value: 0.654\n",
      "ci 95% for control group: [0.493, 0.555]\n",
      "ci 95% for treatment group: [0.483, 0.545]\n",
      "Fail to reject the null hypothesis - we have nothing else to say\n"
     ]
    }
   ],
   "source": [
    "# Zproportion test on Click Rate\n",
    "from statsmodels.stats.proportion import proportions_ztest, proportion_confint\n",
    "significance = 0.05\n",
    "\n",
    "control_results = ab_test[ab_test['group'] == 'Control']['Click']\n",
    "treatment_results = ab_test[ab_test['group'] == 'Treatment']['Click']\n",
    "\n",
    "n_con = control_results.count()\n",
    "n_treat = treatment_results.count()\n",
    "\n",
    "successes = [control_results.sum(), treatment_results.sum()]\n",
    "nobs = [n_con, n_treat]\n",
    "\n",
    "z_stat, pval = proportions_ztest(successes, nobs=nobs)\n",
    "(lower_con, lower_treat), (upper_con, upper_treat) = proportion_confint(successes, nobs=nobs, alpha=0.05)\n",
    "\n",
    "print(f'z statistic: {z_stat:.2f}')\n",
    "print(f'p-value: {pval:.3f}')\n",
    "print(f'ci 95% for control group: [{lower_con:.3f}, {upper_con:.3f}]')\n",
    "print(f'ci 95% for treatment group: [{lower_treat:.3f}, {upper_treat:.3f}]')\n",
    "if pval > significance:\n",
    "    print (\"Fail to reject the null hypothesis - we have nothing else to say\")\n",
    "else:\n",
    "    print (\"Reject the null hypothesis - suggest the alternative hypothesis is true\")"
   ]
  },
  {
   "cell_type": "code",
   "execution_count": 77,
   "metadata": {},
   "outputs": [
    {
     "name": "stdout",
     "output_type": "stream",
     "text": [
      "z statistic: 0.45\n",
      "p-value: 0.000\n",
      "Reject the null hypothesis - suggest the alternative hypothesis is true\n"
     ]
    }
   ],
   "source": [
    "# T-test on Average purchase\n",
    "from statsmodels.stats.weightstats import ttest_ind\n",
    "significance = 0.05\n",
    "\n",
    "control_results = ab_test[ab_test['group'] == 'Control']['Purchase']\n",
    "treatment_results = ab_test[ab_test['group'] == 'Treatment']['Purchase']\n",
    "\n",
    "t_stat, pval, df = ttest_ind(control_results, treatment_results)\n",
    "\n",
    "print(f'z statistic: {z_stat:.2f}')\n",
    "print(f'p-value: {pval:.3f}')\n",
    "if pval > significance:\n",
    "    print (\"Fail to reject the null hypothesis - we have nothing else to say\")\n",
    "else:\n",
    "    print (\"Reject the null hypothesis - suggest the alternative hypothesis is true\")"
   ]
  },
  {
   "cell_type": "code",
   "execution_count": 78,
   "metadata": {},
   "outputs": [
    {
     "data": {
      "text/html": [
       "<div>\n",
       "<style scoped>\n",
       "    .dataframe tbody tr th:only-of-type {\n",
       "        vertical-align: middle;\n",
       "    }\n",
       "\n",
       "    .dataframe tbody tr th {\n",
       "        vertical-align: top;\n",
       "    }\n",
       "\n",
       "    .dataframe thead th {\n",
       "        text-align: right;\n",
       "    }\n",
       "</style>\n",
       "<table border=\"1\" class=\"dataframe\">\n",
       "  <thead>\n",
       "    <tr style=\"text-align: right;\">\n",
       "      <th></th>\n",
       "      <th>Purchase</th>\n",
       "      <th>Click</th>\n",
       "      <th>group</th>\n",
       "    </tr>\n",
       "  </thead>\n",
       "  <tbody>\n",
       "    <tr>\n",
       "      <th>788</th>\n",
       "      <td>51.704283</td>\n",
       "      <td>0</td>\n",
       "      <td>Control</td>\n",
       "    </tr>\n",
       "    <tr>\n",
       "      <th>1144</th>\n",
       "      <td>59.344646</td>\n",
       "      <td>1</td>\n",
       "      <td>Treatment</td>\n",
       "    </tr>\n",
       "    <tr>\n",
       "      <th>840</th>\n",
       "      <td>49.468766</td>\n",
       "      <td>1</td>\n",
       "      <td>Control</td>\n",
       "    </tr>\n",
       "    <tr>\n",
       "      <th>985</th>\n",
       "      <td>42.731271</td>\n",
       "      <td>1</td>\n",
       "      <td>Control</td>\n",
       "    </tr>\n",
       "    <tr>\n",
       "      <th>1996</th>\n",
       "      <td>66.696528</td>\n",
       "      <td>1</td>\n",
       "      <td>Treatment</td>\n",
       "    </tr>\n",
       "    <tr>\n",
       "      <th>1587</th>\n",
       "      <td>68.452002</td>\n",
       "      <td>0</td>\n",
       "      <td>Treatment</td>\n",
       "    </tr>\n",
       "    <tr>\n",
       "      <th>1683</th>\n",
       "      <td>49.976979</td>\n",
       "      <td>0</td>\n",
       "      <td>Treatment</td>\n",
       "    </tr>\n",
       "    <tr>\n",
       "      <th>1577</th>\n",
       "      <td>59.973730</td>\n",
       "      <td>1</td>\n",
       "      <td>Treatment</td>\n",
       "    </tr>\n",
       "    <tr>\n",
       "      <th>219</th>\n",
       "      <td>57.840442</td>\n",
       "      <td>1</td>\n",
       "      <td>Control</td>\n",
       "    </tr>\n",
       "    <tr>\n",
       "      <th>747</th>\n",
       "      <td>45.364230</td>\n",
       "      <td>1</td>\n",
       "      <td>Control</td>\n",
       "    </tr>\n",
       "  </tbody>\n",
       "</table>\n",
       "</div>"
      ],
      "text/plain": [
       "       Purchase  Click      group\n",
       "788   51.704283      0    Control\n",
       "1144  59.344646      1  Treatment\n",
       "840   49.468766      1    Control\n",
       "985   42.731271      1    Control\n",
       "1996  66.696528      1  Treatment\n",
       "1587  68.452002      0  Treatment\n",
       "1683  49.976979      0  Treatment\n",
       "1577  59.973730      1  Treatment\n",
       "219   57.840442      1    Control\n",
       "747   45.364230      1    Control"
      ]
     },
     "execution_count": 78,
     "metadata": {},
     "output_type": "execute_result"
    }
   ],
   "source": [
    "ab_test.sample(n= 10)"
   ]
  },
  {
   "cell_type": "code",
   "execution_count": null,
   "metadata": {},
   "outputs": [],
   "source": []
  }
 ],
 "metadata": {
  "kernelspec": {
   "display_name": "Python 3",
   "language": "python",
   "name": "python3"
  },
  "language_info": {
   "codemirror_mode": {
    "name": "ipython",
    "version": 3
   },
   "file_extension": ".py",
   "mimetype": "text/x-python",
   "name": "python",
   "nbconvert_exporter": "python",
   "pygments_lexer": "ipython3",
   "version": "3.7.6"
  }
 },
 "nbformat": 4,
 "nbformat_minor": 4
}
